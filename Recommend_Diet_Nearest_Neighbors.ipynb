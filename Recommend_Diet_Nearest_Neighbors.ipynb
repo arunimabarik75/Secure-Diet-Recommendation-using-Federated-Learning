{
  "nbformat": 4,
  "nbformat_minor": 0,
  "metadata": {
    "colab": {
      "provenance": []
    },
    "kernelspec": {
      "name": "python3",
      "display_name": "Python 3"
    },
    "language_info": {
      "name": "python"
    }
  },
  "cells": [
    {
      "cell_type": "code",
      "execution_count": 1,
      "metadata": {
        "id": "e394oQPug7Aw"
      },
      "outputs": [],
      "source": [
        "import warnings\n",
        "warnings.filterwarnings('ignore')\n",
        "\n",
        "import pandas as pd\n",
        "import numpy as np\n",
        "import pickle"
      ]
    },
    {
      "cell_type": "code",
      "source": [
        "# Load Dataset"
      ],
      "metadata": {
        "id": "QzsHNEbJha8e"
      },
      "execution_count": 2,
      "outputs": []
    },
    {
      "cell_type": "code",
      "source": [
        "from google.colab import drive\n",
        "drive.mount('/content/drive')"
      ],
      "metadata": {
        "id": "elbmW-Yrha_v",
        "colab": {
          "base_uri": "https://localhost:8080/"
        },
        "outputId": "38445fc1-e489-4501-8256-c3fc97dffd6b"
      },
      "execution_count": 3,
      "outputs": [
        {
          "output_type": "stream",
          "name": "stdout",
          "text": [
            "Mounted at /content/drive\n"
          ]
        }
      ]
    },
    {
      "cell_type": "code",
      "source": [
        "path = \"/content/drive/MyDrive/Minor Project - Semester 7/global_model.sav\""
      ],
      "metadata": {
        "id": "xz6hHquUhbC8"
      },
      "execution_count": 4,
      "outputs": []
    },
    {
      "cell_type": "code",
      "source": [
        "# Taking pickled model"
      ],
      "metadata": {
        "id": "bac7JBSVuc9X"
      },
      "execution_count": 5,
      "outputs": []
    },
    {
      "cell_type": "code",
      "source": [
        "model = pickle.load(open(path, 'rb'))"
      ],
      "metadata": {
        "id": "6HZuUQbQhbFp"
      },
      "execution_count": 6,
      "outputs": []
    },
    {
      "cell_type": "code",
      "source": [
        "model.coef_"
      ],
      "metadata": {
        "id": "zd82KEZlZy-3",
        "colab": {
          "base_uri": "https://localhost:8080/"
        },
        "outputId": "5d67fff4-d5d1-42bc-dfc8-4ab2320a76cb"
      },
      "execution_count": 7,
      "outputs": [
        {
          "output_type": "execute_result",
          "data": {
            "text/plain": [
              "array([ 0.06825225, -0.91072404,  0.38586088, -0.0498874 ,  0.56109946,\n",
              "        0.99988492,  0.87289432])"
            ]
          },
          "metadata": {},
          "execution_count": 7
        }
      ]
    },
    {
      "cell_type": "code",
      "source": [
        "model.intercept_"
      ],
      "metadata": {
        "colab": {
          "base_uri": "https://localhost:8080/"
        },
        "id": "XMooKNzXt8s4",
        "outputId": "a1de4099-d92e-470b-a9f6-ca924f195c2f"
      },
      "execution_count": 8,
      "outputs": [
        {
          "output_type": "execute_result",
          "data": {
            "text/plain": [
              "array(-7.6449437e-16)"
            ]
          },
          "metadata": {},
          "execution_count": 8
        }
      ]
    },
    {
      "cell_type": "code",
      "source": [
        "# User Input\n",
        "# Example: 26, 66.58, 1.63, F, 25.02, 1449.35, 1.9"
      ],
      "metadata": {
        "id": "y7IwSFTHt8vt"
      },
      "execution_count": 9,
      "outputs": []
    },
    {
      "cell_type": "code",
      "source": [
        "age = 26\n",
        "height = 1.63\n",
        "weight = 66\n",
        "gender = 'F'\n",
        "activity_level = 1.9"
      ],
      "metadata": {
        "id": "tTUxN8Fbt8yc"
      },
      "execution_count": 33,
      "outputs": []
    },
    {
      "cell_type": "code",
      "source": [
        "# Encode Gender\n",
        "# 0 - Female\n",
        "# 1 - Male\n",
        "\n",
        "if gender == 'F':\n",
        "  gender = 0\n",
        "else:\n",
        "  gender = 1"
      ],
      "metadata": {
        "id": "vWz8DHVPt81c"
      },
      "execution_count": 34,
      "outputs": []
    },
    {
      "cell_type": "code",
      "source": [
        "# BMI calculation\n",
        "\n",
        "bmi = round(weight/((height)**2),2)\n",
        "bmi"
      ],
      "metadata": {
        "colab": {
          "base_uri": "https://localhost:8080/"
        },
        "id": "T191doMqt84O",
        "outputId": "0fffa5fa-7fde-42b9-80a1-d275d4330a8a"
      },
      "execution_count": 36,
      "outputs": [
        {
          "output_type": "execute_result",
          "data": {
            "text/plain": [
              "24.84"
            ]
          },
          "metadata": {},
          "execution_count": 36
        }
      ]
    },
    {
      "cell_type": "code",
      "source": [
        "# BMR calculation\n",
        "\n",
        "if gender == 1:\n",
        "    bmr = 10*weight+6.25*height*100-5*age+5\n",
        "else:\n",
        "    bmr = 10*weight+6.25*height*100-5*age-161\n",
        "\n",
        "bmr"
      ],
      "metadata": {
        "colab": {
          "base_uri": "https://localhost:8080/"
        },
        "id": "7BgnCKHtt87N",
        "outputId": "93b47758-1e36-414f-dc87-eb0edbbcde5b"
      },
      "execution_count": 40,
      "outputs": [
        {
          "output_type": "execute_result",
          "data": {
            "text/plain": [
              "1387.75"
            ]
          },
          "metadata": {},
          "execution_count": 40
        }
      ]
    },
    {
      "cell_type": "code",
      "source": [
        "# Model input"
      ],
      "metadata": {
        "id": "2PuBgubrt89_"
      },
      "execution_count": 41,
      "outputs": []
    },
    {
      "cell_type": "code",
      "source": [
        "user_input = np.array([age, weight, height, gender, bmi, bmr, activity_level]).reshape(1, -1)"
      ],
      "metadata": {
        "id": "z59sW9tht9BS"
      },
      "execution_count": 57,
      "outputs": []
    },
    {
      "cell_type": "code",
      "source": [
        "user_input"
      ],
      "metadata": {
        "colab": {
          "base_uri": "https://localhost:8080/"
        },
        "id": "7YQAECq4UYEm",
        "outputId": "1be71f75-75da-4457-ce8c-a543013abb6e"
      },
      "execution_count": 58,
      "outputs": [
        {
          "output_type": "execute_result",
          "data": {
            "text/plain": [
              "array([[  26.  ,   66.  ,    1.63,    0.  ,   24.84, 1387.75,    1.9 ]])"
            ]
          },
          "metadata": {},
          "execution_count": 58
        }
      ]
    },
    {
      "cell_type": "code",
      "source": [
        "calorie_prediction = model.predict(user_input)"
      ],
      "metadata": {
        "id": "8VZuGDzgt9ED"
      },
      "execution_count": 59,
      "outputs": []
    },
    {
      "cell_type": "code",
      "source": [
        "calorie_prediction"
      ],
      "metadata": {
        "colab": {
          "base_uri": "https://localhost:8080/"
        },
        "id": "UgJ7qLD5t9G6",
        "outputId": "fd7e5911-9521-41c7-b99f-bf5829eb3065"
      },
      "execution_count": 60,
      "outputs": [
        {
          "output_type": "execute_result",
          "data": {
            "text/plain": [
              "array([1345.48223509])"
            ]
          },
          "metadata": {},
          "execution_count": 60
        }
      ]
    },
    {
      "cell_type": "code",
      "source": [
        "# Calories per meal"
      ],
      "metadata": {
        "id": "qwbz5mHnt9QG"
      },
      "execution_count": null,
      "outputs": []
    },
    {
      "cell_type": "code",
      "source": [
        "calorie_dist_meal_wise = {'breakfast':0.35, 'lunch':0.40, 'dinner': 0.45}"
      ],
      "metadata": {
        "id": "a1dkIvLtdMi9"
      },
      "execution_count": 61,
      "outputs": []
    },
    {
      "cell_type": "code",
      "source": [
        "# Load recipes dataset"
      ],
      "metadata": {
        "id": "aBBE5L1hdMlt"
      },
      "execution_count": null,
      "outputs": []
    },
    {
      "cell_type": "code",
      "source": [
        "path = \"/content/drive/MyDrive/Minor Project - Semester 7/Datasets/recipes_processed.csv\""
      ],
      "metadata": {
        "id": "r7VlvLBFdMos"
      },
      "execution_count": 62,
      "outputs": []
    },
    {
      "cell_type": "code",
      "source": [
        "df = pd.read_csv(path)"
      ],
      "metadata": {
        "id": "lz-448N8d8un"
      },
      "execution_count": 67,
      "outputs": []
    },
    {
      "cell_type": "code",
      "source": [
        "df.columns"
      ],
      "metadata": {
        "colab": {
          "base_uri": "https://localhost:8080/"
        },
        "id": "FNuxDfL-hiwI",
        "outputId": "34b519b2-cab3-42a5-ab63-be2bdd877683"
      },
      "execution_count": 68,
      "outputs": [
        {
          "output_type": "execute_result",
          "data": {
            "text/plain": [
              "Index(['Name', 'Calories', 'FatContent', 'SaturatedFatContent',\n",
              "       'CholesterolContent', 'SodiumContent', 'CarbohydrateContent',\n",
              "       'FiberContent', 'SugarContent', 'ProteinContent'],\n",
              "      dtype='object')"
            ]
          },
          "metadata": {},
          "execution_count": 68
        }
      ]
    },
    {
      "cell_type": "code",
      "source": [
        "from sklearn.neighbors import NearestNeighbors\n",
        "\n",
        "nn_model = NearestNeighbors(metric = 'cosine', algorithm = 'brute')\n",
        "nn_model.fit(df.iloc[:,1:])"
      ],
      "metadata": {
        "colab": {
          "base_uri": "https://localhost:8080/",
          "height": 74
        },
        "id": "q5xzXWgadMrz",
        "outputId": "eb3d888b-aa8b-4547-a82d-28fcd5e15e80"
      },
      "execution_count": 69,
      "outputs": [
        {
          "output_type": "execute_result",
          "data": {
            "text/plain": [
              "NearestNeighbors(algorithm='brute', metric='cosine')"
            ],
            "text/html": [
              "<style>#sk-container-id-1 {color: black;background-color: white;}#sk-container-id-1 pre{padding: 0;}#sk-container-id-1 div.sk-toggleable {background-color: white;}#sk-container-id-1 label.sk-toggleable__label {cursor: pointer;display: block;width: 100%;margin-bottom: 0;padding: 0.3em;box-sizing: border-box;text-align: center;}#sk-container-id-1 label.sk-toggleable__label-arrow:before {content: \"▸\";float: left;margin-right: 0.25em;color: #696969;}#sk-container-id-1 label.sk-toggleable__label-arrow:hover:before {color: black;}#sk-container-id-1 div.sk-estimator:hover label.sk-toggleable__label-arrow:before {color: black;}#sk-container-id-1 div.sk-toggleable__content {max-height: 0;max-width: 0;overflow: hidden;text-align: left;background-color: #f0f8ff;}#sk-container-id-1 div.sk-toggleable__content pre {margin: 0.2em;color: black;border-radius: 0.25em;background-color: #f0f8ff;}#sk-container-id-1 input.sk-toggleable__control:checked~div.sk-toggleable__content {max-height: 200px;max-width: 100%;overflow: auto;}#sk-container-id-1 input.sk-toggleable__control:checked~label.sk-toggleable__label-arrow:before {content: \"▾\";}#sk-container-id-1 div.sk-estimator input.sk-toggleable__control:checked~label.sk-toggleable__label {background-color: #d4ebff;}#sk-container-id-1 div.sk-label input.sk-toggleable__control:checked~label.sk-toggleable__label {background-color: #d4ebff;}#sk-container-id-1 input.sk-hidden--visually {border: 0;clip: rect(1px 1px 1px 1px);clip: rect(1px, 1px, 1px, 1px);height: 1px;margin: -1px;overflow: hidden;padding: 0;position: absolute;width: 1px;}#sk-container-id-1 div.sk-estimator {font-family: monospace;background-color: #f0f8ff;border: 1px dotted black;border-radius: 0.25em;box-sizing: border-box;margin-bottom: 0.5em;}#sk-container-id-1 div.sk-estimator:hover {background-color: #d4ebff;}#sk-container-id-1 div.sk-parallel-item::after {content: \"\";width: 100%;border-bottom: 1px solid gray;flex-grow: 1;}#sk-container-id-1 div.sk-label:hover label.sk-toggleable__label {background-color: #d4ebff;}#sk-container-id-1 div.sk-serial::before {content: \"\";position: absolute;border-left: 1px solid gray;box-sizing: border-box;top: 0;bottom: 0;left: 50%;z-index: 0;}#sk-container-id-1 div.sk-serial {display: flex;flex-direction: column;align-items: center;background-color: white;padding-right: 0.2em;padding-left: 0.2em;position: relative;}#sk-container-id-1 div.sk-item {position: relative;z-index: 1;}#sk-container-id-1 div.sk-parallel {display: flex;align-items: stretch;justify-content: center;background-color: white;position: relative;}#sk-container-id-1 div.sk-item::before, #sk-container-id-1 div.sk-parallel-item::before {content: \"\";position: absolute;border-left: 1px solid gray;box-sizing: border-box;top: 0;bottom: 0;left: 50%;z-index: -1;}#sk-container-id-1 div.sk-parallel-item {display: flex;flex-direction: column;z-index: 1;position: relative;background-color: white;}#sk-container-id-1 div.sk-parallel-item:first-child::after {align-self: flex-end;width: 50%;}#sk-container-id-1 div.sk-parallel-item:last-child::after {align-self: flex-start;width: 50%;}#sk-container-id-1 div.sk-parallel-item:only-child::after {width: 0;}#sk-container-id-1 div.sk-dashed-wrapped {border: 1px dashed gray;margin: 0 0.4em 0.5em 0.4em;box-sizing: border-box;padding-bottom: 0.4em;background-color: white;}#sk-container-id-1 div.sk-label label {font-family: monospace;font-weight: bold;display: inline-block;line-height: 1.2em;}#sk-container-id-1 div.sk-label-container {text-align: center;}#sk-container-id-1 div.sk-container {/* jupyter's `normalize.less` sets `[hidden] { display: none; }` but bootstrap.min.css set `[hidden] { display: none !important; }` so we also need the `!important` here to be able to override the default hidden behavior on the sphinx rendered scikit-learn.org. See: https://github.com/scikit-learn/scikit-learn/issues/21755 */display: inline-block !important;position: relative;}#sk-container-id-1 div.sk-text-repr-fallback {display: none;}</style><div id=\"sk-container-id-1\" class=\"sk-top-container\"><div class=\"sk-text-repr-fallback\"><pre>NearestNeighbors(algorithm=&#x27;brute&#x27;, metric=&#x27;cosine&#x27;)</pre><b>In a Jupyter environment, please rerun this cell to show the HTML representation or trust the notebook. <br />On GitHub, the HTML representation is unable to render, please try loading this page with nbviewer.org.</b></div><div class=\"sk-container\" hidden><div class=\"sk-item\"><div class=\"sk-estimator sk-toggleable\"><input class=\"sk-toggleable__control sk-hidden--visually\" id=\"sk-estimator-id-1\" type=\"checkbox\" checked><label for=\"sk-estimator-id-1\" class=\"sk-toggleable__label sk-toggleable__label-arrow\">NearestNeighbors</label><div class=\"sk-toggleable__content\"><pre>NearestNeighbors(algorithm=&#x27;brute&#x27;, metric=&#x27;cosine&#x27;)</pre></div></div></div></div></div>"
            ]
          },
          "metadata": {},
          "execution_count": 69
        }
      ]
    },
    {
      "cell_type": "code",
      "source": [
        "predictor = nn_model.kneighbors"
      ],
      "metadata": {
        "id": "MMY2L1KReEob"
      },
      "execution_count": 70,
      "outputs": []
    },
    {
      "cell_type": "code",
      "source": [
        "# Make list of nutrition values\n",
        "\n",
        "import random\n",
        "\n",
        "max_calorie = 2000\n",
        "max_fat = 100\n",
        "max_saturated_fat = 13\n",
        "max_cholesterol = 300\n",
        "max_sodium = 2300\n",
        "max_carbohydrate = 325\n",
        "max_fiber = 40\n",
        "max_sugar = 40\n",
        "max_protein = 200\n",
        "max_list = [max_calorie,max_fat,max_saturated_fat,max_cholesterol,max_sodium,max_carbohydrate,max_fiber,max_sugar,max_protein]\n",
        "\n",
        "nutrition_values = np.array([random.randint(1, max_val) for max_val in max_list])"
      ],
      "metadata": {
        "id": "Hm3fW-jZeXpr"
      },
      "execution_count": 71,
      "outputs": []
    },
    {
      "cell_type": "code",
      "source": [
        "for key, value in calorie_dist_meal_wise.items():\n",
        "  print(key + \" ----------------------------->>\")\n",
        "\n",
        "  calorie_intake_in_meal = calorie_prediction * value\n",
        "\n",
        "  # Replace calorie in nutrition_values with calorie_intake_in_meal\n",
        "  nutrition_values[0] = calorie_intake_in_meal\n",
        "\n",
        "  nearest_neighbors = predictor(nutrition_values.reshape(1, -1), n_neighbors = 5, return_distance = False)\n",
        "  output_df = df.iloc[nearest_neighbors[0]]\n",
        "  print(output_df.iloc[:,0])\n",
        "  print()"
      ],
      "metadata": {
        "colab": {
          "base_uri": "https://localhost:8080/"
        },
        "id": "KF_paCQFdMu9",
        "outputId": "203cb9af-6c78-4aa7-80b4-3c818f3147d0"
      },
      "execution_count": 76,
      "outputs": [
        {
          "output_type": "stream",
          "name": "stdout",
          "text": [
            "breakfast ----------------------------->>\n",
            "453097     Brook&rsquo;s Combo Fried Rice\n",
            "216861    Pork Chops With Plum Rose Sauce\n",
            "505400                  Ming's Pork Ramen\n",
            "433381          Pretzel Bites With Cheese\n",
            "95315                    Red Pepper Brine\n",
            "Name: Name, dtype: object\n",
            "\n",
            "lunch ----------------------------->>\n",
            "453097     Brook&rsquo;s Combo Fried Rice\n",
            "216861    Pork Chops With Plum Rose Sauce\n",
            "505400                  Ming's Pork Ramen\n",
            "95315                    Red Pepper Brine\n",
            "437047        Homemade Soft Pretzel Bites\n",
            "Name: Name, dtype: object\n",
            "\n",
            "dinner ----------------------------->>\n",
            "216861            Pork Chops With Plum Rose Sauce\n",
            "453097             Brook&rsquo;s Combo Fried Rice\n",
            "505400                          Ming's Pork Ramen\n",
            "95315                            Red Pepper Brine\n",
            "435394    Medieval Game Hen Pot Pie - Alton Brown\n",
            "Name: Name, dtype: object\n",
            "\n"
          ]
        }
      ]
    },
    {
      "cell_type": "code",
      "source": [],
      "metadata": {
        "id": "mralI5azdMx1"
      },
      "execution_count": null,
      "outputs": []
    },
    {
      "cell_type": "code",
      "source": [],
      "metadata": {
        "id": "_ZkjdE9mdM1I"
      },
      "execution_count": null,
      "outputs": []
    },
    {
      "cell_type": "code",
      "source": [],
      "metadata": {
        "id": "aXnehhwDdM4S"
      },
      "execution_count": null,
      "outputs": []
    }
  ]
}